{
 "cells": [
  {
   "cell_type": "code",
   "execution_count": null,
   "id": "6c7569a5-bacf-4d2e-b6ca-1af540073e39",
   "metadata": {},
   "outputs": [],
   "source": [
    "import sys, os\n",
    "from os.path import join\n",
    "from os import path\n",
    "import tomopy\n",
    "import matplotlib.pyplot as plt\n",
    "from getpass import getuser\n",
    "import scipy\n",
    "import ipywidgets\n",
    "import numpy as np\n",
    "import h5py\n",
    "\n",
    "# Self-written libraries\n",
    "sys.path.append(join(os.getcwd(), \"library\"))\n",
    "from interactive import cimshow"
   ]
  },
  {
   "cell_type": "code",
   "execution_count": null,
   "id": "f9e42a0d-2968-499e-b277-50bf7d445394",
   "metadata": {},
   "outputs": [],
   "source": [
    "# interactive plotting\n",
    "import ipywidgets\n",
    "\n",
    "%matplotlib widget\n"
   ]
  },
  {
   "cell_type": "markdown",
   "id": "c689de0c-6b4a-4394-b52b-d4d224615e20",
   "metadata": {},
   "source": [
    "## Load Data"
   ]
  },
  {
   "cell_type": "code",
   "execution_count": null,
   "id": "da4ef2fe-75cd-44f1-a728-5754a45422c2",
   "metadata": {},
   "outputs": [],
   "source": [
    "PROPOSAL = 11018117\n",
    "USER = getuser()\n",
    "\n",
    "# beamtime folder on maxwell\n",
    "BASEFOLDER = \"/data/beamtimes/PETRA/2308_MaxP04/%s/\" % PROPOSAL\n",
    "subfolder = \"XPCS\"\n",
    "sample_name = \"XPCS_Aug2023\"\n",
    "\n",
    "# processed folder on maxwell\n",
    "#folder_general = sup.create_folder(join(BASEFOLDER, \"processed\"))\n",
    "folder_general = join(\"/data/export/cklose/2308_PETRA_Skyrmion_CCI\",\"Analysis\",\"FTH_CDI\")"
   ]
  },
  {
   "cell_type": "code",
   "execution_count": null,
   "id": "8ad9689c-b508-4e5f-b4e0-08f5e8345b70",
   "metadata": {},
   "outputs": [],
   "source": [
    "def load_fth(im_id):\n",
    "    \"\"\"\n",
    "    Load fth dataset\n",
    "    \"\"\"\n",
    "    fname = join(\n",
    "        folder_general,\n",
    "        \"Logs\",\n",
    "        \"Data_ImId_%04d_fth_%s.hdf5\" % (im_id, USER),\n",
    "    )\n",
    "    print(\"Loading: %s\"%fname)\n",
    "    \n",
    "    with h5py.File(fname, \"r\") as f:\n",
    "        data = {}\n",
    "        data[\"im_id\"] = f[\"im_id\"][()]\n",
    "        data[\"roi\"] = f[\"roi\"][()]\n",
    "        data[\"prop_dist\"] = f[\"prop_dist\"][()]\n",
    "        data[\"phase\"] = f[\"phase\"][()]\n",
    "        data[\"reco\"] = f[\"recon\"][()]\n",
    "        data[\"s_rotx\"] = f[\"experimental_setup\"][\"s_rotx\"][()]\n",
    "        data[\"s_rotz\"] = f[\"experimental_setup\"][\"s_rotz\"][()]\n",
    "    return data\n",
    "\n",
    "def load_cdi(im_id):\n",
    "    \"\"\"\n",
    "    Load cdi dataset\n",
    "    \"\"\"\n",
    "    fname = join(\n",
    "        folder_general,\n",
    "        \"Logs\",\n",
    "        \"Data_ImId_%04d_cdi_%s.hdf5\" % (im_id, USER),\n",
    "    )\n",
    "\n",
    "    print(\"Loading: %s\"%fname)\n",
    "\n",
    "    with h5py.File(fname, \"r\") as f:\n",
    "        data = {}\n",
    "        data[\"im_id\"] = f[\"im_id\"][()]\n",
    "        data[\"roi\"] = f[\"roi\"][()]\n",
    "        data[\"prop_dist\"] = f[\"prop_dist\"][()]\n",
    "        data[\"phase\"] = f[\"phase\"][()]\n",
    "        data[\"supportmask\"] = f[\"supportmask\"][()]\n",
    "        data[\"reco\"] = f[\"reco\"][()]\n",
    "        data[\"reco_pc\"] = f[\"reco_pc\"][()]\n",
    "        data[\"s_rotx\"] = f[\"experimental_setup\"][\"s_rotx\"][()]\n",
    "        data[\"s_rotz\"] = f[\"experimental_setup\"][\"s_rotz\"][()]\n",
    "    return data"
   ]
  },
  {
   "cell_type": "code",
   "execution_count": null,
   "id": "c9cd6c9e-4f86-48e2-9663-84be3f624492",
   "metadata": {},
   "outputs": [],
   "source": [
    "# Define scan id\n",
    "im_id_set = [293,294]\n",
    "\n",
    "print(\"Image Set:  %s\" % im_id_set)"
   ]
  },
  {
   "cell_type": "code",
   "execution_count": null,
   "id": "1a7345a6-61b1-49c2-8ef2-b803386c3dd6",
   "metadata": {},
   "outputs": [],
   "source": [
    "proj, s_rotx, s_rotz = [], [], []\n",
    "\n",
    "for im_id in im_id_set: \n",
    "    data = load_fth(im_id)\n",
    "    #data = load_cdi(im_id)\n",
    "\n",
    "    proj.append(data[\"reco\"])\n",
    "    s_rotx.append(data[\"s_rotx\"])\n",
    "    s_rotz.append(data[\"s_rotz\"])\n",
    "\n",
    "proj = np.stack(proj)\n",
    "theta = np.array(s_rotx) # choose the relevant angle, either x or z\n",
    "\n",
    "# Plot projection\n",
    "fig, ax = cimshow(np.abs(proj),cmap='gray')\n",
    "ax.set_title(\"Projections\")"
   ]
  },
  {
   "cell_type": "markdown",
   "id": "cb186756-7bc5-4b31-aac7-6a1eac7b0afa",
   "metadata": {},
   "source": [
    "## Align Data"
   ]
  },
  {
   "cell_type": "code",
   "execution_count": null,
   "id": "11d04b24-c6cb-4e8a-941a-c3b065a9372d",
   "metadata": {
    "scrolled": true
   },
   "outputs": [],
   "source": [
    "proj, sx, sc, cov = tomopy.align_seq(proj, theta, center=rot_center, iters=10, algorithm=\"gridrec\") # could take a lot of time, maybe reduce iters, no gpu acceleration\n",
    "rot_center = tomopy.find_center(proj, theta) # find rotation center\n"
   ]
  },
  {
   "cell_type": "markdown",
   "id": "8d2aea8f-0734-4380-aba3-df7a09ac07dd",
   "metadata": {},
   "source": [
    "## Reconstruct Data "
   ]
  },
  {
   "cell_type": "code",
   "execution_count": null,
   "id": "6e9b4b33-7e97-4105-9582-ebd0e5414f6a",
   "metadata": {},
   "outputs": [],
   "source": [
    "extra_options = {'MinConstraint': 0.000, 'MaxConstraint':1 } # are there any known limitations which values the voxels can have? set here min and max for each voxel\n",
    "options = {   'proj_type': 'cuda',    'method': 'SIRT_CUDA',    'num_iter': 500,    'extra_options': extra_options} # define reconstruction algorithm\n",
    "recon = tomopy.recon(tomopy.minus_log(proj), #negativ log is needed if absorption contrast is used -> sum over absorption coefficient of each voxel, if phase is used this is not necessary\n",
    "                     theta,\n",
    "                     center=rot_center, \n",
    "                     algorithm=tomopy.astra,\n",
    "                     options=options) #returns 3D array containing the reconstruction"
   ]
  },
  {
   "cell_type": "markdown",
   "id": "d0a30094-1555-47c8-a86d-0852c39636e9",
   "metadata": {},
   "source": [
    "## Plot Data"
   ]
  },
  {
   "cell_type": "code",
   "execution_count": null,
   "id": "7f51d243-3433-45f4-a211-d46b4f2d5ecd",
   "metadata": {},
   "outputs": [],
   "source": [
    "%matplotlib widget\n",
    "cimshow(recon) #x-z Plane\n",
    "cimshow(np.rot90(recon)) #x-y Plane"
   ]
  },
  {
   "cell_type": "code",
   "execution_count": null,
   "id": "f2e1a6c2-8671-4719-99b0-f66f2b304837",
   "metadata": {},
   "outputs": [],
   "source": []
  }
 ],
 "metadata": {
  "kernelspec": {
   "display_name": "2026_SwissFEL_venv",
   "language": "python",
   "name": "2026_swissfel_venv"
  },
  "language_info": {
   "codemirror_mode": {
    "name": "ipython",
    "version": 3
   },
   "file_extension": ".py",
   "mimetype": "text/x-python",
   "name": "python",
   "nbconvert_exporter": "python",
   "pygments_lexer": "ipython3",
   "version": "3.11.0"
  }
 },
 "nbformat": 4,
 "nbformat_minor": 5
}
