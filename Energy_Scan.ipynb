{
 "cells": [
  {
   "cell_type": "markdown",
   "id": "eba288a9-3875-46c5-b0a9-630ffec093b1",
   "metadata": {},
   "source": [
    "# Initalize libraries"
   ]
  },
  {
   "cell_type": "markdown",
   "id": "61f112de-de96-4b87-854d-fdeed3aaa802",
   "metadata": {},
   "source": [
    "## Import libraries"
   ]
  },
  {
   "cell_type": "code",
   "execution_count": null,
   "id": "36a0f61f-385d-4371-92e0-0e34a886c254",
   "metadata": {
    "tags": []
   },
   "outputs": [],
   "source": [
    "import sys, os\n",
    "import gc\n",
    "import time\n",
    "from os.path import join\n",
    "from os import path\n",
    "from importlib import reload\n",
    "from getpass import getuser\n",
    "from glob import glob\n",
    "from tqdm.auto import tqdm\n",
    "from joblib import Parallel, delayed\n",
    "\n",
    "# Data\n",
    "import xarray as xr\n",
    "import h5py\n",
    "import numpy as np\n",
    "from sfdata import SFDataFiles, SFScanInfo, SFProcFile\n",
    "\n",
    "# Plotting\n",
    "import imageio\n",
    "import matplotlib.pyplot as plt\n",
    "import fabio\n",
    "\n",
    "\n",
    "# scipy\n",
    "from scipy.ndimage.filters import gaussian_filter\n",
    "import scipy\n",
    "from scipy import stats\n",
    "\n",
    "\n",
    "# Self-written libraries\n",
    "sys.path.append(join(os.getcwd(), \"library\"))\n",
    "# import phrcore\n",
    "import mask_lib\n",
    "import helper_functions as helper\n",
    "import interactive\n",
    "from interactive import cimshow\n",
    "import Swiss_FEL_Loading as sfl\n",
    "\n",
    "plt.rcParams[\"figure.constrained_layout.use\"] = True  # replaces plt.tight_layout"
   ]
  },
  {
   "cell_type": "code",
   "execution_count": null,
   "id": "ef13f839-af3a-4b32-83cf-722ac1a68313",
   "metadata": {
    "tags": []
   },
   "outputs": [],
   "source": [
    "# Is there a GPU?\n",
    "try:\n",
    "    # Cupy\n",
    "    import cupy as cp\n",
    "    import cupyx as cpx\n",
    "\n",
    "    GPU = True\n",
    "\n",
    "    print(\"GPU available\")\n",
    "\n",
    "    # Self-written library\n",
    "    import CCI_core_cupy as cci\n",
    "    import Phase_Retrieval as PhR\n",
    "except:\n",
    "    GPU = False\n",
    "    import CCI_core as cci\n",
    "\n",
    "    print(\"GPU unavailable\")"
   ]
  },
  {
   "cell_type": "code",
   "execution_count": null,
   "id": "943ca421-037a-40b1-9490-d3045d956184",
   "metadata": {
    "tags": []
   },
   "outputs": [],
   "source": [
    "# interactive plotting\n",
    "import ipywidgets\n",
    "\n",
    "%matplotlib widget\n",
    "\n",
    "# Auto formatting of cells\n",
    "%load_ext jupyter_black"
   ]
  },
  {
   "cell_type": "markdown",
   "id": "d7c684e5-8887-470b-8c82-9d8cf43fbfac",
   "metadata": {},
   "source": [
    "## Experiment specific Functions"
   ]
  },
  {
   "cell_type": "code",
   "execution_count": null,
   "id": "0f4064b6-246b-44cb-9767-9415de70cf53",
   "metadata": {
    "tags": []
   },
   "outputs": [],
   "source": [
    "BEAMTIMEID = 21625\n",
    "USER = getuser()\n",
    "\n",
    "# Number or jobs for analysis\n",
    "NR_JOBS = 16\n",
    "\n",
    "BASEFOLDER = f\"/das/home/{USER}/p{BEAMTIMEID}\"\n",
    "mnemonics = sfl.load_mnemonics()"
   ]
  },
  {
   "cell_type": "markdown",
   "id": "6974fc84-ba92-4eea-98bf-76a6df61c119",
   "metadata": {},
   "source": [
    "### Loading data"
   ]
  },
  {
   "cell_type": "code",
   "execution_count": null,
   "id": "0a0bc8ab-6b64-4535-8e03-fcca338f5ee9",
   "metadata": {
    "tags": []
   },
   "outputs": [],
   "source": [
    "# Define ids of different run numbers for image loading\n",
    "run_nr = 15  # single helicity mode: image with magnetic contrast, double helicity: pos\n",
    "\n",
    "# Find files and folders\n",
    "ids, folder = sfl.list_data_filenames(run_nr, BASEFOLDER, search_key=\"*BSDATA.h5\")"
   ]
  },
  {
   "cell_type": "code",
   "execution_count": null,
   "id": "c5b2ed15-c3e1-49aa-a3c6-c422fcfb6a36",
   "metadata": {
    "tags": []
   },
   "outputs": [],
   "source": [
    "# Load energy\n",
    "energy = SFScanInfo(folder + \"/meta/scan.json\").readbacks\n",
    "\n",
    "# Load data\n",
    "data_dict = sfl.load_run(ids, mnemonics)"
   ]
  },
  {
   "cell_type": "code",
   "execution_count": null,
   "id": "bcde9569-48be-4800-ba47-70820a1d88c6",
   "metadata": {
    "tags": []
   },
   "outputs": [],
   "source": [
    "# Create xarray\n",
    "data = xr.Dataset()\n",
    "\n",
    "# Coordinate\n",
    "data[\"energy\"] = energy\n",
    "\n",
    "# Create variables\n",
    "for key in [\"Diode\", \"I0_intensity_Ar\"]:\n",
    "    data[key] = xr.DataArray(data_dict[key], dims=[\"idx\", \"channel\"])\n",
    "\n",
    "## Create coordinates\n",
    "sel = (data[\"channel\"]<10000)\n",
    "data = data.isel(sel)"
   ]
  },
  {
   "cell_type": "code",
   "execution_count": null,
   "id": "8ecd035f-9592-48c3-b9ee-b4a83b3ed9b7",
   "metadata": {
    "tags": []
   },
   "outputs": [],
   "source": [
    "# Sign correction\n",
    "for key in [\"I0_intensity_Ar\"]:\n",
    "    data[key] = -data[key]"
   ]
  },
  {
   "cell_type": "code",
   "execution_count": null,
   "id": "d567ff29-6b07-4494-8161-b21953163a05",
   "metadata": {
    "tags": []
   },
   "outputs": [],
   "source": [
    "# Plot diode and time-of-flight signal\n",
    "fig, ax = plt.subplots(1, 2, figsize=(8, 4), sharex=True)\n",
    "ax[0].plot(np.mean(data[\"Diode\"], axis=0))\n",
    "ax[0].grid()\n",
    "ax[0].set_ylabel(\"Diode\")\n",
    "ax[1].plot(np.mean(data[\"I0_intensity_Ar\"], axis=0))\n",
    "ax[1].grid()\n",
    "ax[1].set_ylabel(\"Time-of-flight I0\")"
   ]
  },
  {
   "cell_type": "code",
   "execution_count": null,
   "id": "79d190e6-1d92-4535-9c90-199cd7520d80",
   "metadata": {
    "tags": []
   },
   "outputs": [],
   "source": [
    "# Clean spectra\n",
    "# Remove offset\n",
    "for key in [\"Diode\", \"I0_intensity_Ar\"]:\n",
    "    data[key] = data[key] - data[key][:, :1000].mean(\"channel\")"
   ]
  },
  {
   "cell_type": "code",
   "execution_count": null,
   "id": "014dbaa6-4a1e-4b1e-aa2a-71a2a778f7e3",
   "metadata": {
    "tags": []
   },
   "outputs": [],
   "source": [
    "# Plot diode and time-of-flight signal\n",
    "fig, ax = plt.subplots(1, 2, figsize=(8, 4))\n",
    "ax[0].plot(np.mean(data[\"Diode\"].values, axis=0))\n",
    "ax[0].grid()\n",
    "ax[1].plot(np.mean(data[\"I0_intensity_Ar\"].values, axis=0))\n",
    "ax[1].grid()"
   ]
  },
  {
   "cell_type": "code",
   "execution_count": null,
   "id": "b5faddc8-598e-4f71-9835-84f626b41feb",
   "metadata": {
    "tags": []
   },
   "outputs": [],
   "source": [
    "# Get total diode and tof signal\n",
    "sel = (data[\"channel\"]) * ()"
   ]
  },
  {
   "cell_type": "code",
   "execution_count": null,
   "id": "7f35e343-9be2-4c62-b3a7-ffbd9d4f773f",
   "metadata": {
    "tags": []
   },
   "outputs": [],
   "source": [
    "# Plot diode and time-of-flight signal\n",
    "fig, ax = plt.subplots(1, 2, figsize=(8, 4))\n",
    "ax[0].plot(np.mean(data[\"Diode\"], axis=0))\n",
    "ax[0].grid()\n",
    "ax[1].plot(np.mean(data[\"I0_intensity_Ar\"], axis=0))\n",
    "ax[1].grid()"
   ]
  },
  {
   "cell_type": "code",
   "execution_count": null,
   "id": "ff2733cb-d82e-49ec-8679-f90fa90b6bb2",
   "metadata": {
    "tags": []
   },
   "outputs": [],
   "source": [
    "fig, ax = plt.subplots(figsize=(10, 5))\n",
    "ax.plot(\n",
    "    np.sum(data[\"Diode\"], axis=0) / np.sum(data[\"I0_intensity_Ar\"], axis=0),\n",
    "    linewidth=0.5,\n",
    ")\n",
    "ax.grid()"
   ]
  },
  {
   "cell_type": "code",
   "execution_count": null,
   "id": "79168c78-065b-4071-b8e5-b7baa67f8982",
   "metadata": {
    "tags": []
   },
   "outputs": [],
   "source": [
    "fig, ax = plt.subplots(figsize=(10, 5))\n",
    "ax.plot(\n",
    "    np.sum(data[\"I0_intensity_Ar\"], axis=0),\n",
    "    linewidth=0.5,\n",
    ")\n",
    "ax.grid()"
   ]
  },
  {
   "cell_type": "code",
   "execution_count": null,
   "id": "face3fb4-1316-430f-a731-40c28077b86f",
   "metadata": {},
   "outputs": [],
   "source": [
    "fig, ax = plt"
   ]
  },
  {
   "cell_type": "code",
   "execution_count": null,
   "id": "bdb2cc46-6f99-43b5-af3b-2feb679626ef",
   "metadata": {
    "tags": []
   },
   "outputs": [],
   "source": [
    "data[\"Diode\"].shape"
   ]
  },
  {
   "cell_type": "code",
   "execution_count": null,
   "id": "3c6c51b5-3981-4733-a423-392ea42b2cdc",
   "metadata": {
    "tags": []
   },
   "outputs": [],
   "source": [
    "data[\"I0_intensity_Ar\"].shape"
   ]
  },
  {
   "cell_type": "code",
   "execution_count": null,
   "id": "793cfeea-93c8-441a-9f62-381ae61de70e",
   "metadata": {
    "tags": []
   },
   "outputs": [],
   "source": [
    "reload(sfl)"
   ]
  },
  {
   "cell_type": "code",
   "execution_count": null,
   "id": "b6624e4e-0155-437f-89c7-30ac06fa2460",
   "metadata": {
    "tags": []
   },
   "outputs": [],
   "source": [
    "sfl.load_run"
   ]
  },
  {
   "cell_type": "code",
   "execution_count": null,
   "id": "f83e2e0b-5c7d-4edb-b3d8-da64ad58d7c6",
   "metadata": {},
   "outputs": [],
   "source": [
    "data"
   ]
  }
 ],
 "metadata": {
  "kernelspec": {
   "display_name": "2406_SwissFEL_venv",
   "language": "python",
   "name": "2406_swissfel_venv"
  },
  "language_info": {
   "codemirror_mode": {
    "name": "ipython",
    "version": 3
   },
   "file_extension": ".py",
   "mimetype": "text/x-python",
   "name": "python",
   "nbconvert_exporter": "python",
   "pygments_lexer": "ipython3",
   "version": "3.11.0"
  }
 },
 "nbformat": 4,
 "nbformat_minor": 5
}
