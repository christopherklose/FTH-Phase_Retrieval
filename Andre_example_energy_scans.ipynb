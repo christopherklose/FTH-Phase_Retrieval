{
 "cells": [
  {
   "cell_type": "code",
   "execution_count": null,
   "id": "b6b8158c-d80e-4a21-842c-2ba73c2229ef",
   "metadata": {
    "tags": []
   },
   "outputs": [],
   "source": [
    "import numpy as np\n",
    "from matplotlib import pyplot as plt\n",
    "# from sfdata import SFScanInfo\n",
    "from sfdata import SFDataFiles, SFScanInfo, SFProcFile\n",
    "\n",
    "import pickle\n",
    "import matplotlib.patches as patches\n",
    "\n",
    "%matplotlib widget\n",
    "\n",
    "import numpy as np\n",
    "import json, h5py\n",
    "import os, glob\n",
    "import time\n",
    "import pandas as pd\n",
    "from matplotlib import pyplot as plt\n",
    "from matplotlib import cm\n",
    "from IPython.display import clear_output, display\n",
    "import matplotlib.colors as colors\n",
    "import matplotlib.ticker as ticker\n",
    "# from ipyfilechooser import FileChooser\n",
    "\n",
    "import warnings\n",
    "warnings.filterwarnings('ignore')\n",
    "\n",
    "from sfdata import SFDataFile, SFDataFiles\n",
    "from sys import getsizeof\n",
    "import ipywidgets as widgets\n",
    "from ipywidgets import *\n",
    "from scipy import signal, optimize\n",
    "\n",
    "from scipy.signal import savgol_filter"
   ]
  },
  {
   "cell_type": "code",
   "execution_count": null,
   "id": "b902b6ed-fd63-4863-8c14-291fa82ef121",
   "metadata": {
    "tags": []
   },
   "outputs": [],
   "source": [
    "def mm_to_fs(mm):\n",
    "    return 3335.6*2*mm\n"
   ]
  },
  {
   "cell_type": "code",
   "execution_count": null,
   "id": "e3ca0386-b399-425e-888d-22db611065a5",
   "metadata": {
    "tags": []
   },
   "outputs": [],
   "source": [
    "#put run numbers. if more than one run, write [21, 22, 24, 30]. THey will be merged if the scan was the same PV\n",
    "run_numbers = [15]#np.arange(1829,2017+1)#[740]\n",
    "run_numbers"
   ]
  },
  {
   "cell_type": "code",
   "execution_count": null,
   "id": "2c3f9313-9c33-4750-8962-27b152f3f519",
   "metadata": {
    "tags": []
   },
   "outputs": [],
   "source": [
    "#################### Load data #########################\n",
    "### Can start loading while run is still ongoing   #######\n",
    "\n",
    "from os import listdir\n",
    "from os.path import isfile, join\n",
    "\n",
    "path = \"/sf/maloja/data/p21625/raw/\"\n",
    "\n",
    "file_list = os.listdir(path)\n",
    "\n",
    "\n",
    "scan_name_list = []\n",
    "\n",
    "for i in run_numbers:\n",
    "    s = '%04d'%i\n",
    "\n",
    "    for f in file_list:\n",
    "        if s in f:\n",
    "            #fn = \"/sf/maloja/data/p21235/raw/%s/meta/scan.json\"%s\n",
    "            scan_name_list.append(f)\n",
    "                  \n",
    "for ii , scan_name in enumerate(scan_name_list):\n",
    "    scan_name_list[ii] = path+scan_name\n",
    "scan_name_list"
   ]
  },
  {
   "cell_type": "code",
   "execution_count": null,
   "id": "c988beb4-69a1-4a8e-be77-ab6ef13483f3",
   "metadata": {},
   "outputs": [],
   "source": [
    "### Get amps value from files\n",
    "\n"
   ]
  },
  {
   "cell_type": "code",
   "execution_count": null,
   "id": "4bf22a2a-ef2c-4712-a17c-c0cb6bb0828f",
   "metadata": {
    "tags": []
   },
   "outputs": [],
   "source": [
    "# channel = ['SATUN14-MBND100:I-READ']\n",
    "# current_list = []\n",
    "\n",
    "# for scan_name in scan_name_list:\n",
    "#     # print(scan_name)\n",
    "#     scan = SFScanInfo(scan_name + \"/meta/scan.json\")\n",
    "#     # print(scan.readbacks)\n",
    "#     for i, step in enumerate(scan[:]):\n",
    "#         current = None\n",
    "        \n",
    "#         subset = step[channel]\n",
    "#         # subset.drop_missing()\n",
    "#         # print(step.keys())\n",
    "#         scan_steps = scan.readbacks\n",
    "#         current_list.append(step[channel[0]].data.mean())\n"
   ]
  },
  {
   "cell_type": "code",
   "execution_count": null,
   "id": "a3e8735c-b46f-480e-81fa-79ebf94e8799",
   "metadata": {},
   "outputs": [],
   "source": []
  },
  {
   "cell_type": "code",
   "execution_count": null,
   "id": "6bef9fd8-2419-4bb7-9835-11c5ee8a8d73",
   "metadata": {
    "tags": []
   },
   "outputs": [],
   "source": [
    "\n",
    "channels = [\"SATES21-GES1:A2_VALUES\", \"SATES21-GES1:A4_VALUES\"]\n",
    "\n",
    "\n",
    "\n",
    "tof = []\n",
    "apd = []\n",
    "\n",
    "scan_var = []\n",
    "delay_A = []\n",
    "\n",
    "for counter, scan_name in enumerate(scan_name_list):\n",
    "    print(scan_name)\n",
    "    scan = SFScanInfo(scan_name + \"/meta/scan.json\")\n",
    "    print(scan.readbacks)\n",
    "    \n",
    "    # print(scan[0].keys())\n",
    "    vmi_step = []\n",
    "    vmi_radial_temp = []\n",
    "    I0_step = []\n",
    "\n",
    "    for i, step in enumerate(scan[:]):\n",
    "        temp_tof = None\n",
    "        temp_apd = None\n",
    "        try:\n",
    "            subset = step[channels]\n",
    "            subset.drop_missing()\n",
    "            # print(step.keys())\n",
    "            scan_steps = scan.readbacks\n",
    "            # print(i)\n",
    "            temp_apd = subset[\"SATES21-GES1:A4_VALUES\"].data[:,0:5000]\n",
    "            #print(temp_apd.shape)\n",
    "            temp_tof = subset[\"SATES21-GES1:A2_VALUES\"].data[:,0:10000]\n",
    "        except:\n",
    "            print('error')\n",
    "            continue\n",
    "            \n",
    "        if temp_tof is not None and temp_apd is not None :\n",
    "            tof.append(temp_tof)\n",
    "            apd.append(temp_apd)\n",
    "            delay_A.append(scan_steps[i]*np.ones(temp_tof.shape[0]))\n",
    "\n",
    "tof = -1*np.vstack(tof)\n",
    "print(tof.shape)\n",
    "apd = np.vstack(apd)\n",
    "print(apd.shape)\n",
    "step  = scan.readbacks\n",
    "scan_var = np.hstack(delay_A)\n",
    "print(scan_var.shape)"
   ]
  },
  {
   "cell_type": "code",
   "execution_count": null,
   "id": "08e15288-87c7-463f-8e49-7c0f68299852",
   "metadata": {
    "tags": []
   },
   "outputs": [],
   "source": [
    "tof.shape"
   ]
  },
  {
   "cell_type": "code",
   "execution_count": null,
   "id": "f99d8f9c-961e-4c29-9712-e75fa2642d25",
   "metadata": {
    "tags": []
   },
   "outputs": [],
   "source": [
    "apd.shape"
   ]
  },
  {
   "cell_type": "code",
   "execution_count": null,
   "id": "faabc9a5-dc0a-4b0a-ba58-24bf5fc0a7ea",
   "metadata": {
    "tags": []
   },
   "outputs": [],
   "source": [
    "plt.figure()\n",
    "plt.subplot(1,2,1)\n",
    "plt.plot(apd.mean(0))\n",
    "plt.subplot(1,2,2)\n",
    "plt.plot(tof.mean(0))\n",
    "\n",
    "plt.show()"
   ]
  },
  {
   "cell_type": "code",
   "execution_count": null,
   "id": "8d758a22-aa42-4841-8782-8b742c913eea",
   "metadata": {
    "tags": []
   },
   "outputs": [],
   "source": [
    "# clean spectra:\n",
    "\n",
    "clean_apd = np.copy(apd)\n",
    "\n",
    "clean_apd = apd - (np.mean(apd[:,0:1000],1)*np.ones_like(apd).T).T\n",
    "\n",
    "clean_tof = np.copy(tof)\n",
    "\n",
    "clean_tof = tof - (np.mean(tof[:,0:1000],1)*np.ones_like(tof).T).T"
   ]
  },
  {
   "cell_type": "code",
   "execution_count": null,
   "id": "eca7f82c-86ef-42ac-98d9-a7a285dbaf82",
   "metadata": {
    "tags": []
   },
   "outputs": [],
   "source": [
    "plt.figure()\n",
    "plt.plot(clean_tof[-1000])\n",
    "# plt.plot(tof[-100])\n",
    "plt.show()"
   ]
  },
  {
   "cell_type": "code",
   "execution_count": null,
   "id": "49aded64-686e-4992-a385-858572cf1b49",
   "metadata": {},
   "outputs": [],
   "source": []
  },
  {
   "cell_type": "code",
   "execution_count": null,
   "id": "36af8ead-0fc4-499d-9e3f-13b80a7bc9dc",
   "metadata": {
    "tags": []
   },
   "outputs": [],
   "source": [
    "apd_int = np.sum(np.abs(clean_apd[:,1096:1250]),1)\n",
    "tof_int = np.sum(np.abs(clean_tof[:,4970:5200]),1)\n",
    "# tof_int = np.sum(np.abs(tof[:,6380:6450]),1)"
   ]
  },
  {
   "cell_type": "code",
   "execution_count": null,
   "id": "5f40f200-89ff-4889-882d-c75804f73c93",
   "metadata": {
    "tags": []
   },
   "outputs": [],
   "source": [
    "plt.figure()\n",
    "plt.subplot(1,2,1)\n",
    "plt.hist(tof_int[::2], bins = 100)\n",
    "plt.subplot(1,2,2)\n",
    "\n",
    "plt.hist(tof_int[1::2], bins = 100)\n",
    "\n",
    "plt.show()"
   ]
  },
  {
   "cell_type": "code",
   "execution_count": null,
   "id": "95713877-e0a2-4f04-bf6d-a9ef7355b974",
   "metadata": {
    "tags": []
   },
   "outputs": [],
   "source": [
    "np.arange(0,10)[::2],np.arange(0,10)[1::2]"
   ]
  },
  {
   "cell_type": "code",
   "execution_count": null,
   "id": "8b5b35b6-c23f-4c2c-aa7c-848edbec5721",
   "metadata": {
    "tags": []
   },
   "outputs": [],
   "source": [
    "plt.figure()\n",
    "plt.suptitle(scan_name_list[0][24:])\n",
    "\n",
    "plt.subplot(2,2,1)\n",
    "plt.hist2d(apd_int, tof_int, bins = 300)\n",
    "plt.subplot(2,2,2)\n",
    "plt.title('APD')\n",
    "plt.hist(apd_int, bins = 300)\n",
    "plt.subplot(2,2,3)\n",
    "plt.title('TOF')\n",
    "\n",
    "plt.hist(tof_int, bins = 300)\n",
    "plt.tight_layout()\n",
    "plt.show()\n",
    "\n",
    "plt.figure()\n",
    "plt.suptitle(scan_name_list[0][24:])\n",
    "\n",
    "plt.hist2d(apd_int[apd_int >8e4], tof_int[apd_int >8e4], bins = 300)\n",
    "plt.xlabel('APD')\n",
    "plt.xlabel('TOF')\n",
    "\n",
    "# plt.tight_layout()\n",
    "plt.show()"
   ]
  },
  {
   "cell_type": "code",
   "execution_count": null,
   "id": "225d294d-c5c5-4218-a6f1-78871fbf6079",
   "metadata": {
    "tags": []
   },
   "outputs": [],
   "source": [
    "plt.figure()\n",
    "plt.suptitle(scan_name_list[0])\n",
    "plt.subplot(2,1,1)\n",
    "plt.plot( apd_int, '.-',label = 'apd')\n",
    "plt.legend()\n",
    "\n",
    "\n",
    "plt.plot(savgol_filter(apd_int,31,2))\n",
    "plt.subplot(2,1,2)\n",
    "plt.plot(tof_int,'.-', label = 'TOF')\n",
    "# plt.xlabel(scan.parameters['Id'] + scan.parameters['units'])\n",
    "plt.legend()\n",
    "plt.show()"
   ]
  },
  {
   "cell_type": "code",
   "execution_count": null,
   "id": "eb2a542a-c603-4276-9fd0-8185c93302ad",
   "metadata": {
    "tags": []
   },
   "outputs": [],
   "source": [
    "spec = []\n",
    "std = []\n",
    "I0 = []\n",
    "for s in np.arange(0,len(apd_int),1500):\n",
    "    absorption = apd_int[s:s+1500]\n",
    "    I0.append(tof_int[s:s+1500].mean())\n",
    "    spec.append(absorption.mean())\n",
    "    std.append(absorption.std())\n",
    "    \n",
    "plt.figure()\n",
    "plt.suptitle(scan_name_list[0])\n",
    "plt.subplot(2,1,1)\n",
    "plt.plot( np.asarray(spec), '.-',label = 'absorption')\n",
    "\n",
    "plt.subplot(2,1,2)\n",
    "plt.plot( I0,'.-', label = 'I0')\n",
    "# plt.xlabel(scan.parameters['Id'] + scan.parameters['units'])\n",
    "plt.legend()\n",
    "plt.show()\n",
    "\n"
   ]
  },
  {
   "cell_type": "code",
   "execution_count": null,
   "id": "9fb48a52-cff3-499d-81b1-aba685d0dc53",
   "metadata": {},
   "outputs": [],
   "source": []
  },
  {
   "cell_type": "code",
   "execution_count": null,
   "id": "63780abf-5f15-44c7-ad64-0cc33dbf60c9",
   "metadata": {
    "tags": []
   },
   "outputs": [],
   "source": [
    "# step = np.unique(scan_var)"
   ]
  },
  {
   "cell_type": "code",
   "execution_count": null,
   "id": "70c32ba6-a970-47d0-98eb-aedaec49d579",
   "metadata": {
    "tags": []
   },
   "outputs": [],
   "source": [
    "spec = []\n",
    "std = []\n",
    "I0 = []\n",
    "for s in step:\n",
    "    mask = (scan_var == s) & (tof_int > 3.3e4) #& (tof_int < 6e5)\n",
    "    absorption = apd_int[mask] / tof_int[mask]\n",
    "    I0.append(tof_int[mask].mean())\n",
    "    spec.append(absorption.mean())\n",
    "    std.append(absorption.std())\n",
    "    \n"
   ]
  },
  {
   "cell_type": "code",
   "execution_count": null,
   "id": "2f27b876-0035-4272-b1aa-fa3cd8c2e12f",
   "metadata": {},
   "outputs": [],
   "source": []
  },
  {
   "cell_type": "code",
   "execution_count": null,
   "id": "10e2baae-aac7-41df-98fc-1e750c677c1b",
   "metadata": {},
   "outputs": [],
   "source": []
  },
  {
   "cell_type": "code",
   "execution_count": null,
   "id": "f771b05f-1bbe-4696-bdb5-bc87f6990627",
   "metadata": {
    "tags": []
   },
   "outputs": [],
   "source": [
    "plt.figure()\n",
    "plt.suptitle(scan_name_list[0])\n",
    "# plt.subplot(2,1,1)\n",
    "plt.plot(step, spec, '.-',label = '')\n",
    "# plt.errorbar(step, spec, np.asarray(std), label = 'std')\n",
    "\n",
    "# plt.subplot(2,1,2)\n",
    "# plt.plot(step, I0,'.-', label = 'I0')\n",
    "plt.xlabel(scan.parameters['Id'] + scan.parameters['units'])\n",
    "plt.legend()\n",
    "plt.show()"
   ]
  },
  {
   "cell_type": "code",
   "execution_count": null,
   "id": "5fb317b0-63b4-4a73-bb44-2fe2320dca62",
   "metadata": {},
   "outputs": [],
   "source": [
    "0.06/2.1"
   ]
  },
  {
   "cell_type": "code",
   "execution_count": null,
   "id": "3a3e3b16-492b-48ff-bef4-371a3bb619e8",
   "metadata": {},
   "outputs": [],
   "source": [
    "# plt.figure()\n",
    "# plt.title(scan_name_list[0])\n",
    "\n",
    "\n",
    "# for pe in np.arange(2e5,8e5,1e5):\n",
    "    \n",
    "#     spec = []\n",
    "#     std = []\n",
    "#     for s in step:\n",
    "#         mask = (scan_var == s) & (tof_int > pe)  & (tof_int < pe+1e5)\n",
    "#         absorption = apd_int[mask] / tof_int[mask]\n",
    "#         spec.append(absorption.mean())\n",
    "#         std.append(absorption.std())\n",
    "    \n",
    "#     # plt.plot(step, spec)\n",
    "#     plt.errorbar(step, spec, np.asarray(std), label = 'TOF inten. %d'%(pe+1e5/2))\n",
    "    \n",
    "# plt.xlabel(scan.parameters['Id'] + scan.parameters['units'])\n",
    "\n",
    "# plt.legend()\n",
    "# plt.show()"
   ]
  },
  {
   "cell_type": "code",
   "execution_count": null,
   "id": "fefb81cf-0454-49f1-9630-5353daf19e98",
   "metadata": {},
   "outputs": [],
   "source": []
  },
  {
   "cell_type": "code",
   "execution_count": null,
   "id": "a07cdebe-fb28-4898-a9f5-5113c9d6888f",
   "metadata": {},
   "outputs": [],
   "source": [
    "# spec = []\n",
    "# for s in step:\n",
    "#     mask = (scan_var == s)\n",
    "\n",
    "\n",
    "#     plt.figure()\n",
    "#     plt.subplot(2,2,1)\n",
    "#     plt.hist2d(apd_int[mask], tof_int[mask], bins = 300)\n",
    "#     plt.subplot(2,2,2)\n",
    "#     plt.title('APD')\n",
    "#     plt.hist(apd_int[mask], bins = 300)\n",
    "#     plt.subplot(2,2,3)\n",
    "#     plt.title('TOF')\n",
    "\n",
    "#     plt.hist(tof_int[mask], bins = 300)\n",
    "#     plt.show()"
   ]
  },
  {
   "cell_type": "code",
   "execution_count": null,
   "id": "6bdd1855-36c8-4199-8b04-1079a91e6d9a",
   "metadata": {},
   "outputs": [],
   "source": []
  },
  {
   "cell_type": "code",
   "execution_count": null,
   "id": "434ac14e-9297-4e32-acbd-b36b2518739a",
   "metadata": {},
   "outputs": [],
   "source": []
  },
  {
   "cell_type": "code",
   "execution_count": null,
   "id": "5262029b-9815-4fc3-8479-97f56cdf3ed8",
   "metadata": {},
   "outputs": [],
   "source": []
  },
  {
   "cell_type": "code",
   "execution_count": null,
   "id": "c3d59462-b3bb-488b-bca5-69f9bae4cf25",
   "metadata": {},
   "outputs": [],
   "source": []
  },
  {
   "cell_type": "code",
   "execution_count": null,
   "id": "5d9ff97c-4d87-4aeb-b879-a7ffa7928a86",
   "metadata": {},
   "outputs": [],
   "source": []
  },
  {
   "cell_type": "code",
   "execution_count": null,
   "id": "2472b609-6b2d-4115-a4f4-45349c78728c",
   "metadata": {},
   "outputs": [],
   "source": [
    "# plt.figure(figsize = (10,10))\n",
    "# pltn = np.round(np.sqrt(step.shape[0]))+1\n",
    "# for i,s in enumerate(step):\n",
    "#     mask = (scan_var == s)\n",
    "#     plt.subplot(pltn,pltn,i+1)\n",
    "#     plt.suptitle('Intensity corr. signal/100000  pulse ene.3.5mJ mono 0.5eV @ 710eV')\n",
    "#     plt.title('Ene. %0.2f corr %0.4f' %(step[i], np.corrcoef(apd_int[mask], tof_int[mask])[0,1]))\n",
    "#     plt.hist2d(apd_int[mask]/100000, tof_int[mask]/100000, bins = 100)\n",
    "# plt.tight_layout()\n",
    "# plt.show()"
   ]
  },
  {
   "cell_type": "code",
   "execution_count": null,
   "id": "1598615a-61c5-4103-b439-34777dbd985f",
   "metadata": {},
   "outputs": [],
   "source": []
  },
  {
   "cell_type": "code",
   "execution_count": null,
   "id": "fa2f48b6-567f-411d-af19-6c44df9ddcf4",
   "metadata": {},
   "outputs": [],
   "source": []
  },
  {
   "cell_type": "code",
   "execution_count": null,
   "id": "033b73dd-6670-4235-82c9-631fba827429",
   "metadata": {},
   "outputs": [],
   "source": []
  },
  {
   "cell_type": "code",
   "execution_count": null,
   "id": "b5e1aefb-d05f-42ae-af46-a3056b4eba7b",
   "metadata": {},
   "outputs": [],
   "source": []
  },
  {
   "cell_type": "code",
   "execution_count": null,
   "id": "962fc2c3-4cb7-4d74-bed0-6e68c2aca6bb",
   "metadata": {},
   "outputs": [],
   "source": []
  },
  {
   "cell_type": "code",
   "execution_count": null,
   "id": "83bfe05c-ee56-4d98-8a45-5dce0cf86433",
   "metadata": {},
   "outputs": [],
   "source": []
  },
  {
   "cell_type": "code",
   "execution_count": null,
   "id": "dc19ad45-bc98-4877-855f-7df08af91bc6",
   "metadata": {},
   "outputs": [],
   "source": []
  },
  {
   "cell_type": "code",
   "execution_count": null,
   "id": "4f902964-7cac-447a-ad0a-0b31490adae3",
   "metadata": {},
   "outputs": [],
   "source": [
    "150*0.1*(0.5/7)"
   ]
  },
  {
   "cell_type": "code",
   "execution_count": null,
   "id": "853cea66-3191-46d4-9664-67a95d2848b4",
   "metadata": {},
   "outputs": [],
   "source": []
  },
  {
   "cell_type": "code",
   "execution_count": null,
   "id": "bd492f01-4f84-4611-bcdb-6eae693dd871",
   "metadata": {},
   "outputs": [],
   "source": []
  },
  {
   "cell_type": "code",
   "execution_count": null,
   "id": "5f05d500-3190-4bb6-9c81-af325075949e",
   "metadata": {},
   "outputs": [],
   "source": []
  },
  {
   "cell_type": "code",
   "execution_count": null,
   "id": "841c69d8-aa19-4266-b055-f54b25fb1ac2",
   "metadata": {},
   "outputs": [],
   "source": []
  },
  {
   "cell_type": "code",
   "execution_count": null,
   "id": "9d968bd3-45ae-412f-8bfe-0136290eb7c1",
   "metadata": {},
   "outputs": [],
   "source": []
  },
  {
   "cell_type": "code",
   "execution_count": null,
   "id": "3f2469b3-3ad6-408d-afae-9c32f7b6b178",
   "metadata": {},
   "outputs": [],
   "source": []
  },
  {
   "cell_type": "code",
   "execution_count": null,
   "id": "54146b56-e9c5-4df6-829e-a30a0d28a9a9",
   "metadata": {},
   "outputs": [],
   "source": []
  }
 ],
 "metadata": {
  "kernelspec": {
   "display_name": "2406_SwissFEL_venv",
   "language": "python",
   "name": "2406_swissfel_venv"
  },
  "language_info": {
   "codemirror_mode": {
    "name": "ipython",
    "version": 3
   },
   "file_extension": ".py",
   "mimetype": "text/x-python",
   "name": "python",
   "nbconvert_exporter": "python",
   "pygments_lexer": "ipython3",
   "version": "3.11.0"
  }
 },
 "nbformat": 4,
 "nbformat_minor": 5
}
