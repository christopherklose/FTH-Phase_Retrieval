{
 "cells": [
  {
   "cell_type": "markdown",
   "id": "98bb361a-4fb6-461e-80a5-523b5e17c1ca",
   "metadata": {},
   "source": [
    "# Initalize libraries"
   ]
  },
  {
   "cell_type": "markdown",
   "id": "0da40b57-6467-45ee-b067-3d55970bcdba",
   "metadata": {},
   "source": [
    "## Import libraries"
   ]
  },
  {
   "cell_type": "code",
   "execution_count": 1,
   "id": "fae16cf5-86c2-4727-9d1d-2683d107d282",
   "metadata": {},
   "outputs": [
    {
     "name": "stderr",
     "output_type": "stream",
     "text": [
      "WARNING:silx.opencl.common:The module pyOpenCL has been imported but can't be used here\n"
     ]
    }
   ],
   "source": [
    "import sys, os\n",
    "import time\n",
    "from os.path import join\n",
    "from os import path\n",
    "from importlib import reload\n",
    "from getpass import getuser\n",
    "import xarray as xr\n",
    "import h5py\n",
    "from tqdm.auto import tqdm\n",
    "\n",
    "import numpy as np\n",
    "import matplotlib.pyplot as plt\n",
    "\n",
    "# Misc\n",
    "from scipy.ndimage import gaussian_filter1d\n",
    "\n",
    "# Open nexus files\n",
    "from nexusformat.nexus import *\n",
    "\n",
    "# Self-written libraries\n",
    "sys.path.append(join(os.getcwd(),\"library\"))\n",
    "import support_functions as sup\n",
    "from interactive import cimshow\n",
    "\n",
    "# Gifs\n",
    "import imageio\n",
    "\n",
    "plt.rcParams[\"figure.constrained_layout.use\"] = True  # replaces plt.tight_layout"
   ]
  },
  {
   "cell_type": "code",
   "execution_count": 2,
   "id": "ef13f839-af3a-4b32-83cf-722ac1a68313",
   "metadata": {},
   "outputs": [
    {
     "name": "stdout",
     "output_type": "stream",
     "text": [
      "GPU available\n"
     ]
    }
   ],
   "source": [
    "# Is there a GPU?\n",
    "try:\n",
    "    # Cupy\n",
    "    import cupy as cp\n",
    "    import cupyx as cpx\n",
    "\n",
    "    GPU = True\n",
    "\n",
    "    print(\"GPU available\")\n",
    "\n",
    "    # Self-written library\n",
    "    import CCI_core_cupy as cci\n",
    "    import Phase_Retrieval as PhR\n",
    "except:\n",
    "    GPU = False\n",
    "    import CCI_core as cci\n",
    "\n",
    "    print(\"GPU unavailable\")"
   ]
  },
  {
   "cell_type": "code",
   "execution_count": 3,
   "id": "5b2da438-226a-47d5-91b8-f5acc9664aa0",
   "metadata": {
    "tags": []
   },
   "outputs": [],
   "source": [
    "# interactive plotting\n",
    "import ipywidgets\n",
    "%matplotlib widget\n",
    "\n",
    "# Auto formatting of cells\n",
    "#%load_ext jupyter_black"
   ]
  },
  {
   "cell_type": "markdown",
   "id": "e3408ae5-de64-411e-a3e3-f926b19134ab",
   "metadata": {},
   "source": [
    "## Experiment specific Functions"
   ]
  },
  {
   "cell_type": "code",
   "execution_count": 4,
   "id": "1398e982-030a-45f2-9bc5-500cd48d86fb",
   "metadata": {},
   "outputs": [],
   "source": [
    "PROPOSAL = 11018955\n",
    "USER = getuser()"
   ]
  },
  {
   "cell_type": "code",
   "execution_count": 5,
   "id": "67e0539b-b478-4e28-b1b1-f63a41cef975",
   "metadata": {},
   "outputs": [],
   "source": [
    "BASEFOLDER = \"/asap3/petra3/gpfs/p04/2024/data/%s/\" % PROPOSAL\n",
    "sample_name = \"2403_tomo\"\n",
    "\n",
    "\n",
    "# Load any kind of data from collection\n",
    "def load_pre_scan_snapshot(scan_id, key):\n",
    "    fname = join(BASEFOLDER, \"raw\", \"%s_%05d.h5\" % (sample_name,scan_id))\n",
    "    entry = \"entry%d\"%scan_id\n",
    "    \n",
    "    with h5py.File(fname, \"r\") as f:\n",
    "        data = np.array(f[entry][\"measurement\"][\"pre_scan_snapshot\"][key][()])\n",
    "        print(\"Loaded: %s\" % (fname))\n",
    "    return np.squeeze(data)\n",
    "\n",
    "# Load any kind of data from measurements\n",
    "def load_data(scan_id, key):\n",
    "    fname = join(BASEFOLDER, \"raw\", \"%s_%05d.h5\" % (sample_name,scan_id))\n",
    "    entry = \"entry%d\"%scan_id\n",
    "\n",
    "    with h5py.File(fname, \"r\") as f:\n",
    "        data = np.array(f[entry][\"measurement\"][key][()])\n",
    "        print(\"Loaded key %s of %s\" % (key, entry))\n",
    "    return np.squeeze(data)"
   ]
  },
  {
   "cell_type": "code",
   "execution_count": 6,
   "id": "a3b05db2-c7d8-4f14-ae5b-91d36579a332",
   "metadata": {},
   "outputs": [],
   "source": [
    "# Not implemented yet\n",
    "def norm_hyst_data(ydata, norm):\n",
    "    \"\"\"\n",
    "    Normalize hysteresis yaxis to +/- 1\n",
    "    \"\"\"\n",
    "    ynorm = []\n",
    "    for i in range(len(ydata)):\n",
    "        tmp = ydata[i] / norm[i]\n",
    "        tmp = tmp - np.mean(tmp[-5:])\n",
    "        tmp = tmp / np.mean(tmp[:5])\n",
    "        tmp = 2 * (tmp - 0.5)\n",
    "        ynorm.append(tmp)\n",
    "\n",
    "    return ynorm"
   ]
  },
  {
   "cell_type": "code",
   "execution_count": 7,
   "id": "a1aaebb6-e9c6-4306-8580-85f59e9dc16e",
   "metadata": {},
   "outputs": [],
   "source": [
    "from scipy.optimize import curve_fit\n",
    "def gaussian(x, a, x0, sigma, c):\n",
    "    return a * np.exp(-((x - x0) ** 2) / (2 * sigma**2)) + c"
   ]
  },
  {
   "cell_type": "code",
   "execution_count": 6,
   "id": "218012ac-6691-40ae-8930-a84b864b653b",
   "metadata": {},
   "outputs": [
    {
     "data": {
      "text/plain": [
       "'/asap3/petra3/gpfs/p04/2024/data/11018955/'"
      ]
     },
     "execution_count": 6,
     "metadata": {},
     "output_type": "execute_result"
    }
   ],
   "source": [
    "BASEFOLDER"
   ]
  },
  {
   "cell_type": "markdown",
   "id": "83a18703-7ac3-4731-b0e6-6c3bcc6a8170",
   "metadata": {},
   "source": [
    "# Experimental Details"
   ]
  },
  {
   "cell_type": "code",
   "execution_count": 8,
   "id": "cc3239b4-0a4f-466d-8bb3-a12e5bf02202",
   "metadata": {
    "tags": []
   },
   "outputs": [
    {
     "name": "stdout",
     "output_type": "stream",
     "text": [
      "Output Folder: /asap3/petra3/gpfs/p04/2024/data/11018955/processed\n"
     ]
    }
   ],
   "source": [
    "# Dict with basic experimental parameter\n",
    "experimental_setup = {}\n",
    "\n",
    "# General saving folder\n",
    "folder_general = sup.create_folder(join(BASEFOLDER, \"processed\"))\n",
    "print(\"Output Folder: %s\" % folder_general)\n"
   ]
  },
  {
   "cell_type": "markdown",
   "id": "4b9fea5c-dace-48d1-b632-0518079b66c3",
   "metadata": {},
   "source": [
    "# Single or combination of multiple diode scans"
   ]
  },
  {
   "cell_type": "code",
   "execution_count": 12,
   "id": "a3f65339-0204-442e-a7f3-0c05384c7b5b",
   "metadata": {},
   "outputs": [
    {
     "data": {
      "application/vnd.jupyter.widget-view+json": {
       "model_id": "d2c30eb8d78a4e6ba9250b53c74cd6ae",
       "version_major": 2,
       "version_minor": 0
      },
      "text/plain": [
       "  0%|          | 0/28 [00:00<?, ?it/s]"
      ]
     },
     "metadata": {},
     "output_type": "display_data"
    },
    {
     "name": "stdout",
     "output_type": "stream",
     "text": [
      "Loaded key sz of entry1800\n",
      "Loaded key maxibeckhoff1adc1_rmean of entry1800\n",
      "Loaded key sz of entry1801\n",
      "Loaded key maxibeckhoff1adc1_rmean of entry1801\n",
      "Loaded key sz of entry1802\n",
      "Loaded key maxibeckhoff1adc1_rmean of entry1802\n",
      "Loaded key sz of entry1803\n",
      "Loaded key maxibeckhoff1adc1_rmean of entry1803\n",
      "Loaded key sz of entry1804\n",
      "Loaded key maxibeckhoff1adc1_rmean of entry1804\n",
      "Loaded key sz of entry1805\n",
      "Loaded key maxibeckhoff1adc1_rmean of entry1805\n",
      "Loaded key sz of entry1806\n",
      "Loaded key maxibeckhoff1adc1_rmean of entry1806\n",
      "Loaded key sy of entry1807\n",
      "Loaded key maxibeckhoff1adc1_rmean of entry1807\n",
      "Loaded key sy of entry1808\n",
      "Loaded key maxibeckhoff1adc1_rmean of entry1808\n",
      "Loaded key sy of entry1809\n",
      "Loaded key maxibeckhoff1adc1_rmean of entry1809\n",
      "Loaded key sy of entry1810\n",
      "Loaded key maxibeckhoff1adc1_rmean of entry1810\n",
      "Loaded key sz of entry1811\n",
      "Loaded key maxibeckhoff1adc1_rmean of entry1811\n",
      "Loaded key sz of entry1812\n",
      "Loaded key maxibeckhoff1adc1_rmean of entry1812\n",
      "Loaded key sz of entry1813\n",
      "Loaded key maxibeckhoff1adc1_rmean of entry1813\n",
      "Loaded key sz of entry1814\n",
      "Loaded key maxibeckhoff1adc1_rmean of entry1814\n",
      "Loaded key sy of entry1815\n",
      "Loaded key maxibeckhoff1adc1_rmean of entry1815\n",
      "Loaded key sy of entry1816\n",
      "Loaded key maxibeckhoff1adc1_rmean of entry1816\n",
      "Loaded key sz of entry1817\n",
      "Loaded key maxibeckhoff1adc1_rmean of entry1817\n",
      "Loaded key sz of entry1818\n",
      "Loaded key maxibeckhoff1adc1_rmean of entry1818\n",
      "Loaded key sy of entry1819\n",
      "Loaded key maxibeckhoff1adc1_rmean of entry1819\n",
      "Loaded key sy of entry1820\n",
      "Loaded key maxibeckhoff1adc1_rmean of entry1820\n",
      "Loaded key sz of entry1821\n",
      "Loaded key maxibeckhoff1adc1_rmean of entry1821\n",
      "Loaded key sz of entry1822\n",
      "Loaded key maxibeckhoff1adc1_rmean of entry1822\n",
      "Loaded key sy of entry1823\n",
      "Loaded key maxibeckhoff1adc1_rmean of entry1823\n",
      "Loaded key sy of entry1824\n",
      "Loaded key maxibeckhoff1adc1_rmean of entry1824\n",
      "Loaded key sz of entry1825\n",
      "Loaded key maxibeckhoff1adc1_rmean of entry1825\n",
      "Loaded key sz of entry1826\n",
      "Loaded key maxibeckhoff1adc1_rmean of entry1826\n",
      "Loaded key sz of entry1827\n",
      "Loaded key maxibeckhoff1adc1_rmean of entry1827\n"
     ]
    }
   ],
   "source": [
    "# Add scan numbers to combine in single plot\n",
    "scan_ids = np.arange(1800,1828)#[1395,1382,1333]\n",
    "\n",
    "# keys from nxs files (if you are not sure, which you need, open nexus files from beamtime folder and navigate through keys `2310_P04_FGT/raw/FGT`)\n",
    "data_key_x = \"sz\"#\"mx\" # \"energy\", \"sx\", \"sy\"\n",
    "data_key_x2 = \"sy\"\n",
    "data_key_y = \"maxibeckhoff1adc1_rmean\"#\"mx\"#\"sz\"#\n",
    "\n",
    "# Normalization of diode signal with I0, e.g., with petra current or gold mesh (needs to be inserted during scan)\n",
    "normalization = False\n",
    "data_key_norm = \"maxibeckhoff1adc2_rmean\"  # \"petra_curr\"\n",
    "\n",
    "# Load data\n",
    "xdata, ydata, norm = [], [], []\n",
    "for scan_id in tqdm(scan_ids):\n",
    "    try:\n",
    "        data = load_data(scan_id, data_key_x)\n",
    "    except:\n",
    "        data = load_data(scan_id, \"sy\")\n",
    "    xdata.append(data)\n",
    "    ydata.append(load_data(scan_id, data_key_y))\n",
    "\n",
    "    if normalization is True:\n",
    "        norm.append(load_data(scan_id, data_key_norm))\n",
    "    else:\n",
    "        norm.append(np.ones(ydata[-1].shape))"
   ]
  },
  {
   "cell_type": "code",
   "execution_count": 14,
   "id": "07cc44f2-dc27-4857-b330-b27dbb6aed96",
   "metadata": {},
   "outputs": [
    {
     "name": "stdout",
     "output_type": "stream",
     "text": [
      "Saving: /asap3/petra3/gpfs/p04/2024/data/11018955/processed/ScanId_1800-1827_Diode_cklose.png\n"
     ]
    },
    {
     "data": {
      "application/vnd.jupyter.widget-view+json": {
       "model_id": "4c22e9a24c584f8e9ca17d748b24be24",
       "version_major": 2,
       "version_minor": 0
      },
      "image/png": "[encoded data removed]",
      "text/html": [
       "\n",
       "            <div style=\"display: inline-block;\">\n",
       "                <div class=\"jupyter-widgets widget-label\" style=\"text-align: center;\">\n",
       "                    Figure\n",
       "                </div>\n",
       "                <img src='data:image/png;base64,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' width=640.0/>\n",
       "            </div>\n",
       "        "
      ],
      "text/plain": [
       "Canvas(toolbar=Toolbar(toolitems=[('Home', 'Reset original view', 'home', 'home'), ('Back', 'Back to previous …"
      ]
     },
     "metadata": {},
     "output_type": "display_data"
    }
   ],
   "source": [
    "# Format title and output file name\n",
    "if len(scan_ids) > 1:\n",
    "    title = \"ScanIds: %04d-%04d\" % (scan_ids[0], scan_ids[-1])\n",
    "    fname = join(\n",
    "        folder_general,\n",
    "        \"ScanId_%04d-%04d_Diode_%s.png\" % (scan_ids[0], scan_ids[-1], USER),\n",
    "    )\n",
    "else:\n",
    "    title = \"ScanId: %04d\" % (scan_ids[0])\n",
    "    fname = join(folder_general, \"ScanId_%04d_Diode_%s.png\" % (scan_ids[0], USER))\n",
    "\n",
    "colors = plt.cm.jet(np.linspace(0,1,len(xdata)))\n",
    "\n",
    "# Plot all scans together\n",
    "fig, ax = plt.subplots()\n",
    "\n",
    "# Iterate over scans\n",
    "for i, _ in enumerate(scan_ids):\n",
    "    ax.plot(\n",
    "        xdata[i],\n",
    "        ydata[i] / norm[i],\n",
    "        \"o-\",\n",
    "        markersize=2,\n",
    "        label=\"Id: %d\" % scan_ids[i],\n",
    "        color = colors[i]\n",
    "    )\n",
    "\n",
    "# Plotting options\n",
    "ax.set_title(title)\n",
    "ax.set_xlabel(data_key_x)\n",
    "# ax.set_xlim([-0.01, 0.01])\n",
    "# ax.set_ylim([-0.015, 0.015])\n",
    "ax.grid()\n",
    "#ax.legend()\n",
    "\n",
    "# Different label with and without normalization\n",
    "if normalization is True:\n",
    "    ax.set_ylabel(data_key_y + \" (normalized by %s)\" % data_key_norm, fontsize=7)\n",
    "else:\n",
    "    ax.set_ylabel(data_key_y + \" (a.u.)\")\n",
    "\n",
    "# Save plot\n",
    "print(\"Saving: %s\" % fname)\n",
    "plt.savefig(fname, dpi=300)"
   ]
  },
  {
   "cell_type": "markdown",
   "id": "d1008289-961d-4c17-9cfb-41e1a06c097a",
   "metadata": {},
   "source": [
    "## Fitting of scans with a gaussian"
   ]
  },
  {
   "cell_type": "code",
   "execution_count": null,
   "id": "af021d5c-f71b-4f8f-96d8-0ac7bb193765",
   "metadata": {},
   "outputs": [],
   "source": [
    "# Add scan numbers to combine in single plot\n",
    "scan_ids = [1100]\n",
    "\n",
    "# keys from nxs files (if you are not sure, which you need, open nexus files from beamtime folder and navigate through keys `2310_P04_FGT/raw/FGT`)\n",
    "data_key_x = \"sy\"\n",
    "data_key_y = \"maxibeckhoff1adc1_rmean\"\n",
    "\n",
    "# Normalization of diode signal with I0, e.g., with petra current or gold mesh (needs to be inserted during scan)\n",
    "normalization = False\n",
    "data_key_norm = \"adc_beck_femto_goldmesh_mean\"  # \"petra_curr\"\n",
    "\n",
    "\n",
    "# Load energy/wavelength and add to experimental setup\n",
    "try:\n",
    "    experimental_setup[\"energy\"] = np.array(load_energy(scan_ids[0]))\n",
    "    experimental_setup[\"lambda\"] = cci.photon_energy_wavelength(\n",
    "        experimental_setup[\"energy\"], input_unit=\"eV\"\n",
    "    )\n",
    "except:\n",
    "    pass\n",
    "\n",
    "# Load data\n",
    "xdata, ydata, norm = [], [], []\n",
    "for scan_id in tqdm(scan_ids):\n",
    "    xdata.append(load_data(scan_id, data_key_x))\n",
    "    ydata.append(load_data(scan_id, data_key_y))\n",
    "\n",
    "    if normalization is True:\n",
    "        norm.append(load_data(scan_id, data_key_norm))\n",
    "    else:\n",
    "        norm.append(np.ones(ydata[-1].shape))"
   ]
  },
  {
   "cell_type": "code",
   "execution_count": null,
   "id": "2d8374e3-ae8e-4ff3-a57c-d35af36057a4",
   "metadata": {},
   "outputs": [],
   "source": [
    "# Format title and output file name\n",
    "if len(scan_ids) > 1:\n",
    "    title = \"ScanIds: %04d-%04d\" % (scan_ids[0], scan_ids[-1])\n",
    "    fname = join(\n",
    "        folder_general,\n",
    "        \"ScanId_%04d-%04d_Fit_%s.png\" % (scan_ids[0], scan_ids[-1], USER),\n",
    "    )\n",
    "else:\n",
    "    title = \"ScanId: %04d\" % (scan_ids[0])\n",
    "    fname = join(folder_general, \"ScanId_%04d_Fit_%s.png\" % (scan_ids[0], USER))\n",
    "\n",
    "\n",
    "# Plot all scans together\n",
    "fig, ax = plt.subplots()\n",
    "\n",
    "fit = True\n",
    "\n",
    "# Iterate over scans\n",
    "for i, scan_id in enumerate(scan_ids):\n",
    "    # Plot diode\n",
    "    y = ydata[i] / norm[i]\n",
    "    p = ax.plot(\n",
    "        xdata[i],\n",
    "        y,\n",
    "        \"o\",\n",
    "        markersize=2,\n",
    "        label=\"Id: %d\" % scan_ids[i],\n",
    "    )\n",
    "    \n",
    "    # Initial fitting Parameter\n",
    "    if fit is True:\n",
    "        A0 = np.max(ydata[i] / norm[i])\n",
    "        x0 = xdata[i][np.argmax(ydata[i])]\n",
    "        sigma0 = 0.01\n",
    "        c0 = 0  # np.min(ydata[i])\n",
    "        popt, pcov = curve_fit(\n",
    "            gaussian, xdata[i], y, p0=(A0, x0, sigma0, c0)\n",
    "        )\n",
    "        # popt returns the best fit values for parameters of the given model (func)\n",
    "        print(\"Scan %d: A=%02f, x=%02f, sigma=%02f, c=%02f\"%(scan_id,popt[0],popt[1],popt[2],popt[3]))\n",
    "        color = p[0].get_color()\n",
    "        # plot fit\n",
    "        x = np.linspace(xdata[i][0], xdata[i][-1], 100)\n",
    "        ym = gaussian(x, popt[0], popt[1], popt[2], popt[3])\n",
    "        ax.plot(\n",
    "            x, ym, color=color, label=\"FWHM = %.3f\" % (2 * np.sqrt(2 * np.log(2)) * popt[2])\n",
    "        )\n",
    "\n",
    "        # Add vline line\n",
    "        ax.axvline(popt[1], 0, 10, color=color)\n",
    "\n",
    "# Plotting options\n",
    "ax.set_title(title)\n",
    "ax.set_xlabel(data_key_x)\n",
    "# ax.set_xlim([-0.01, 0.01])\n",
    "# ax.set_ylim([-0.015, 0.015])\n",
    "ax.grid()\n",
    "ax.legend()\n",
    "\n",
    "# Different label with and without normalization\n",
    "if normalization is True:\n",
    "    ax.set_ylabel(data_key_y + \" (normalized by %s)\" % data_key_norm, fontsize=7)\n",
    "else:\n",
    "    ax.set_ylabel(data_key_y + \" (a.u.)\")\n",
    "\n",
    "# Save plot\n",
    "print(\"Saving: %s\" % fname)\n",
    "plt.savefig(fname)"
   ]
  },
  {
   "cell_type": "markdown",
   "id": "2f295a4b-a8a1-4f8b-91b2-fc5492c7bb98",
   "metadata": {},
   "source": [
    "# Rotation scans"
   ]
  },
  {
   "cell_type": "code",
   "execution_count": null,
   "id": "fbbc527f-7924-4d32-96ca-8a0cb9f5d71b",
   "metadata": {},
   "outputs": [],
   "source": [
    "# Add scan numbers to combine in single plot\n",
    "scan_ids = [883,890,893,898,901,904,907,910,915,918,921,924,929,932,935]\n",
    "#scan_ids = [882,889,894,896,900,903,906,909,914,917,920,923,928,931,934]\n",
    "\n",
    "# keys from nxs files (if you are not sure, which you need, open nexus files from beamtime folder and navigate through keys `2310_P04_FGT/raw/FGT`)\n",
    "data_key_x = \"sy\" # \"energy\", \"sx\", \"sy\"\n",
    "data_key_y = \"maxibeckhoff1adc1_rmean\"\n",
    "rot_key = \"srotz\"\n",
    "\n",
    "\n",
    "# Normalization of diode signal with I0, e.g., with petra current or gold mesh (needs to be inserted during scan)\n",
    "normalization = False\n",
    "data_key_norm = \"maxibeckhoff1adc2_rmean\"  # \"petra_curr\"\n",
    "\n",
    "\n",
    "if rot_key == \"srotz\":\n",
    "    angle0 = 67\n",
    "\n",
    "\n",
    "# Load energy/wavelength and add to experimental setup\n",
    "try:\n",
    "    experimental_setup[\"energy\"] = np.array(load_energy(scan_ids[0]))\n",
    "    experimental_setup[\"lambda\"] = cci.photon_energy_wavelength(\n",
    "        experimental_setup[\"energy\"], input_unit=\"eV\"\n",
    "    )\n",
    "except:\n",
    "    pass\n",
    "\n",
    "# Load data\n",
    "xdata, ydata, norm, rot = [], [], [], []\n",
    "for scan_id in tqdm(scan_ids):\n",
    "    xdata.append(load_data(scan_id, data_key_x))\n",
    "    ydata.append(load_data(scan_id, data_key_y))\n",
    "    rot.append(load_pre_scan_snapshot(scan_id, rot_key))\n",
    "\n",
    "    if normalization is True:\n",
    "        norm.append(load_data(scan_id, data_key_norm))\n",
    "    else:\n",
    "        norm.append(np.ones(ydata[-1].shape))"
   ]
  },
  {
   "cell_type": "code",
   "execution_count": null,
   "id": "09032f70-bfce-4681-a7e8-4850cf14bc49",
   "metadata": {},
   "outputs": [],
   "source": [
    "# Format title and output file name\n",
    "if len(scan_ids) > 1:\n",
    "    title = \"ScanIds: %04d-%04d\" % (scan_ids[0], scan_ids[-1])\n",
    "    fname = join(\n",
    "        folder_general,\n",
    "        \"ScanId_%04d-%04d_Diode_rot_%s.png\" % (scan_ids[0], scan_ids[-1], USER),\n",
    "    )\n",
    "else:\n",
    "    title = \"ScanId: %04d\" % (scan_ids[0])\n",
    "    fname = join(folder_general, \"ScanId_%04d_Diode__rot%s.png\" % (scan_ids[0], USER))\n",
    "\n",
    "colors = plt.cm.jet(np.linspace(0,1,len(xdata)))\n",
    "\n",
    "# Plot all scans together\n",
    "fig, ax = plt.subplots()\n",
    "\n",
    "# Iterate over scans\n",
    "for i, _ in enumerate(scan_ids):\n",
    "    ax.plot(\n",
    "        xdata[i],\n",
    "        ydata[i] / norm[i],\n",
    "        \"o-\",\n",
    "        markersize=2,\n",
    "        label=\"Id: %d, %s: %.1f (%.1f deg)\" % (scan_ids[i],rot_key,rot[i],rot[i]-angle0),\n",
    "        color = colors[i]\n",
    "    )\n",
    "\n",
    "# Plotting options\n",
    "ax.set_title(title)\n",
    "ax.set_xlabel(data_key_x)\n",
    "# ax.set_xlim([-0.01, 0.01])\n",
    "# ax.set_ylim([-0.015, 0.015])\n",
    "ax.grid()\n",
    "ax.legend(fontsize = 7)\n",
    "\n",
    "# Different label with and without normalization\n",
    "if normalization is True:\n",
    "    ax.set_ylabel(data_key_y + \" (normalized by %s)\" % data_key_norm, fontsize=7)\n",
    "else:\n",
    "    ax.set_ylabel(data_key_y + \" (a.u.)\")\n",
    "\n",
    "# Save plot\n",
    "print(\"Saving: %s\" % fname)\n",
    "plt.savefig(fname, dpi=300)"
   ]
  },
  {
   "cell_type": "code",
   "execution_count": null,
   "id": "94ccb84e-3e6b-47d5-a388-640200746152",
   "metadata": {},
   "outputs": [],
   "source": [
    "peaks_x = np.stack(xdata)\n",
    "peaks_y = np.stack(ydata)\n",
    "\n",
    "peak_pos = []\n",
    "for i,argmax in enumerate(np.argmax(peaks_y,axis=1)):\n",
    "    peak_pos.append(peaks_x[i,argmax])\n",
    "\n",
    "# Fitting\n",
    "m,b = np.polyfit(rot, peak_pos, 1)\n",
    "x = np.linspace(25,125,180)\n",
    "\n",
    "sy = m*x+b\n",
    "    \n",
    "fig, ax = plt.subplots()\n",
    "ax.plot(rot,peak_pos,\"o\",\n",
    "        markersize=7,)\n",
    "        #label=\"Id: %d, %s: %.1f (%.1f deg)\" % (scan_ids[i],rot_key,rot[i],rot[i]-angle0))\n",
    "ax.plot(x,sy,label = \"Fit: %s = %.2f * %s + %.2f\"%(data_key_x,m,rot_key,b))\n",
    "ax.set_ylabel(data_key_x)\n",
    "ax.set_xlabel(rot_key)\n",
    "ax.set_title(\"Alignment Peak Position\")\n",
    "ax.grid()\n",
    "ax.legend()\n",
    "\n",
    "fname = join(\n",
    "    folder_general,\n",
    "    \"ScanId_%04d-%04d_Diode_rot_peak_%s.png\" % (scan_ids[0], scan_ids[-1], USER),\n",
    ")\n",
    "print(\"Saving: %s\"%fname)\n",
    "\n",
    "plt.savefig(fname)"
   ]
  },
  {
   "cell_type": "code",
   "execution_count": null,
   "id": "813cc1ec-09db-4138-89d2-8a49ba7fab53",
   "metadata": {},
   "outputs": [],
   "source": [
    "input_angle = 42\n",
    "sy = m*input_angle+b\n",
    "sy"
   ]
  },
  {
   "cell_type": "markdown",
   "id": "e00602ce-5813-41e5-b646-2031dac79149",
   "metadata": {},
   "source": [
    "# Other"
   ]
  },
  {
   "cell_type": "code",
   "execution_count": 79,
   "id": "74bb10c1-4357-4ba1-8666-6fb5c4784f5f",
   "metadata": {},
   "outputs": [],
   "source": [
    "data = {}\n",
    "data[\"pinhole_z\"] = [77,76.4,75.4,75.4,75.4,75.4,76.4,76.4,74.5,74.5,74.5,73,73.3]\n",
    "data[\"hxsy\"] = [-1.7899,-1.7899,-1.8416,-0.8942,0.0412,-2.7531,-1.8394,-0.8712,-0.9145,0.0196,-1.8595,-1.8046,-1.8]\n",
    "data[\"hxsz\"] = [-0.784,-0.784,-0.6728,-0.6718,-0.6986,-0.6308,-0.6695,-0.6693,-0.6538,-0.6537,-0.6535,-0.6552,-1]\n",
    "data[\"transmission\"] = [0.4,540,617,1185,346,0.8,545,1337,816,326,701,0.2,0.2]"
   ]
  },
  {
   "cell_type": "code",
   "execution_count": 80,
   "id": "62a3d9a6-0515-45e4-a4d7-ae4228acb8a9",
   "metadata": {},
   "outputs": [],
   "source": [
    "data_xr = xr.Dataset()\n",
    "data_xr[\"pinhole_z\"] = xr.DataArray(data[\"pinhole_z\"],dims=[\"index\"])\n",
    "data_xr[\"hxsz\"] = xr.DataArray(data[\"hxsz\"],dims=[\"index\"])\n",
    "data_xr[\"hxsy\"] = xr.DataArray(data[\"hxsy\"],dims=[\"index\"])\n",
    "data_xr[\"hxsy\"] = np.round(2*data_xr[\"hxsy\"],1)/2\n",
    "data_xr[\"transmission\"] = xr.DataArray(data[\"transmission\"],dims=[\"index\"])\n",
    "data_xr[\"z\"] = data_xr[\"hxsz\"]  + data_xr[\"hxsy\"]\n",
    "data_xr[\"z\"] = np.round(2*data_xr[\"z\"],1)/2"
   ]
  },
  {
   "cell_type": "code",
   "execution_count": 81,
   "id": "5ef7749e-f73e-46be-aa25-2a670655ba2f",
   "metadata": {},
   "outputs": [],
   "source": [
    "colors = np.array(data_xr[\"transmission\"].values)  # Assign z values as colors\n",
    "norm = plt.Normalize(colors.min(), colors.max())  # Normalize the colors\n",
    "cmap = plt.cm.plasma  # Choose a colormap (you can change it to any colormap you prefer)\n",
    "\n",
    "# Plot the points with colors based on z values\n",
    "#sc = ax.scatter(x, y, z, c=colors, cmap=cmap, marker='o', s=100)"
   ]
  },
  {
   "cell_type": "code",
   "execution_count": 82,
   "id": "620f8bf8-e74b-48d8-aac7-bc31710c5f64",
   "metadata": {},
   "outputs": [
    {
     "data": {
      "text/plain": [
       "Text(0.5, 0, 'z')"
      ]
     },
     "execution_count": 82,
     "metadata": {},
     "output_type": "execute_result"
    },
    {
     "data": {
      "application/vnd.jupyter.widget-view+json": {
       "model_id": "c2f1b5efb9594f57a9f3a9c4fdf44a65",
       "version_major": 2,
       "version_minor": 0
      },
      "image/png": "[encoded data removed]",
      "text/html": [
       "\n",
       "            <div style=\"display: inline-block;\">\n",
       "                <div class=\"jupyter-widgets widget-label\" style=\"text-align: center;\">\n",
       "                    Figure\n",
       "                </div>\n",
       "                <img src='data:image/png;base64,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' width=640.0/>\n",
       "            </div>\n",
       "        "
      ],
      "text/plain": [
       "Canvas(toolbar=Toolbar(toolitems=[('Home', 'Reset original view', 'home', 'home'), ('Back', 'Back to previous …"
      ]
     },
     "metadata": {},
     "output_type": "display_data"
    }
   ],
   "source": [
    "#fig, ax = plt.subplots()\n",
    "fig = plt.figure()\n",
    "ax = fig.add_subplot(projection='3d')\n",
    "sc = ax.scatter(data_xr[\"hxsz\"].values,data_xr[\"hxsy\"].values ,data_xr[\"transmission\"].values/data_xr[\"transmission\"].max().values,c = colors,cmap=cmap)\n",
    "ax.view_init(elev=90, azim=0)\n",
    "ax.set_yticks(np.arange(-4.5,0,0.9))\n",
    "ax.set_zticks([])\n",
    "ax.zaxis.line.set_visible(False)\n",
    "cbar = fig.colorbar(sc, ax=ax)\n",
    "cbar.set_label('Intensity')\n",
    "ax.set_ylabel(\"hxsy\")\n",
    "ax.set_xlabel(\"z\")"
   ]
  },
  {
   "cell_type": "code",
   "execution_count": null,
   "id": "c1974858-7c7c-4581-9cc6-ae347c1342db",
   "metadata": {},
   "outputs": [],
   "source": [
    "# Add scan numbers to combine in single plot\n",
    "scan_ids = [1100]\n",
    "\n",
    "# keys from nxs files (if you are not sure, which you need, open nexus files from beamtime folder and navigate through keys `2310_P04_FGT/raw/FGT`)\n",
    "data_key_x = \"sy\"\n",
    "data_key_y = \"maxibeckhoff1adc1_rmean\"\n",
    "\n",
    "# Normalization of diode signal with I0, e.g., with petra current or gold mesh (needs to be inserted during scan)\n",
    "normalization = False\n",
    "data_key_norm = \"adc_beck_femto_goldmesh_mean\"  # \"petra_curr\"\n",
    "\n",
    "\n",
    "# Load energy/wavelength and add to experimental setup\n",
    "try:\n",
    "    experimental_setup[\"energy\"] = np.array(load_energy(scan_ids[0]))\n",
    "    experimental_setup[\"lambda\"] = cci.photon_energy_wavelength(\n",
    "        experimental_setup[\"energy\"], input_unit=\"eV\"\n",
    "    )\n",
    "except:\n",
    "    pass\n",
    "\n",
    "# Load data\n",
    "xdata, ydata, norm = [], [], []\n",
    "for scan_id in tqdm(scan_ids):\n",
    "    xdata.append(load_data(scan_id, data_key_x))\n",
    "    ydata.append(load_data(scan_id, data_key_y))\n",
    "\n",
    "    if normalization is True:\n",
    "        norm.append(load_data(scan_id, data_key_norm))\n",
    "    else:\n",
    "        norm.append(np.ones(ydata[-1].shape))"
   ]
  },
  {
   "cell_type": "code",
   "execution_count": null,
   "id": "74bc8177-6ad9-4594-aec1-30d50876f4cf",
   "metadata": {},
   "outputs": [],
   "source": []
  },
  {
   "cell_type": "markdown",
   "id": "ef5f0e5e-4ac9-4b37-a4db-d0eb3b55b074",
   "metadata": {},
   "source": [
    "# Diode Trace Hysteresis"
   ]
  },
  {
   "cell_type": "code",
   "execution_count": null,
   "id": "141882e2-4fa4-42b9-b6cb-ffb22a9b4ac2",
   "metadata": {},
   "outputs": [],
   "source": [
    "def ramp_tan(npts: int, s: float, full=False):\n",
    "    \"\"\"Calculate truncated tangent ramp function.\n",
    "\n",
    "    Parameters\n",
    "    ==========\n",
    "    npts: int\n",
    "        Number of points to calculate\n",
    "    s: float\n",
    "        shape parameter (0<s≤1) varies curve from linear (s→0) to tan-shaped\n",
    "    full: bool\n",
    "        If True, return both arms of the loop by mirroring. This effectively\n",
    "        doubles the number of points.\n",
    "\n",
    "    Returns\n",
    "    =======\n",
    "    ramp: np.ndarray\n",
    "        normalized ramp values\n",
    "    \"\"\"\n",
    "    # if (s <= 0) or (s > 1):\n",
    "    #     raise ValueError(\"shape parameter out of range 0<s≤1\")\n",
    "    x = s * np.linspace(-np.pi / 2, np.pi / 2, npts)\n",
    "    y = np.tan(x) / np.tan(np.pi * s / 2)\n",
    "    if full:\n",
    "        y = np.append(y, y[::-1][1:])\n",
    "    return y"
   ]
  },
  {
   "cell_type": "code",
   "execution_count": null,
   "id": "888be299-12a7-4b90-af1e-f9df05e73a47",
   "metadata": {},
   "outputs": [],
   "source": [
    "def normalize(arr):\n",
    "    return (arr - arr.min()) / (arr.max() - arr.min())"
   ]
  },
  {
   "cell_type": "code",
   "execution_count": null,
   "id": "0f3bf6a3-9e00-4163-adf4-c138ab27b011",
   "metadata": {},
   "outputs": [],
   "source": [
    "# Choose scan id\n",
    "scan_id = 2511\n",
    "\n",
    "# Load trace data\n",
    "fields = [\n",
    "    f\"adc_beck_femto_diodemax_trace\",\n",
    "    \"adc_beck_femto_goldmesh_trace\",\n",
    "    \"adc_beck_mtesla_trace\",\n",
    "]\n",
    "adcs = [load_data(scan_id, f) for f in fields]"
   ]
  },
  {
   "cell_type": "code",
   "execution_count": null,
   "id": "f49f6f6d-e26c-407a-a6f7-23ac35ef1dc6",
   "metadata": {},
   "outputs": [],
   "source": [
    "# Create xarray dataset\n",
    "ds = xr.Dataset()\n",
    "ds[\"fields\"] = (\"index\", adcs[2][:, 10:-10].flatten())  # magnetic field\n",
    "ds[\"diode\"] = (\"index\", adcs[0][:, 10:-10].flatten())  # diode current\n",
    "ds[\"mesh\"] = (\"index\", adcs[1][:, 10:-10].flatten())  # mesh current for normalization\n",
    "ds[\"rising\"] = (\n",
    "    \"index\",\n",
    "    gaussian_filter1d(np.gradient(ds[\"fields\"]), 20) > 0,\n",
    ")  # which hysteresis branch"
   ]
  },
  {
   "cell_type": "code",
   "execution_count": null,
   "id": "68563bc4-92ba-4b32-883f-b350d9389e93",
   "metadata": {},
   "outputs": [],
   "source": [
    "bins = np.max(ds.fields.values) * ramp_tan(100, 0.5, False)\n",
    "\n",
    "ds_sel = ds\n",
    "ds_sel[\"rising\"] = ds_sel.rising.astype(bool)\n",
    "up = ds_sel.where(ds_sel.rising).groupby_bins(\"fields\", bins).mean()\n",
    "down = ds_sel.where(~ds_sel.rising).groupby_bins(\"fields\", bins).mean()"
   ]
  },
  {
   "cell_type": "code",
   "execution_count": null,
   "id": "02a5120f-f9ba-4881-9281-55629f91345c",
   "metadata": {
    "tags": []
   },
   "outputs": [],
   "source": [
    "fig, ax = plt.subplots()\n",
    "ax.plot(1e2 * up.fields, 2 * normalize(up.diode / up.mesh) - 1, \"o\", ms=3)\n",
    "ax.plot(1e2 * down.fields, 2 * normalize(down.diode / down.mesh) - 1, \"o\", ms=3)\n",
    "ax.set_xlabel(\"field (mT)\")\n",
    "ax.set_ylabel(\"diode / mesh (arb. units)\")\n",
    "ax.set_title(\"scan %d: field sweep @ 0.2Hz\" % (scan_id))\n",
    "ax.grid()\n",
    "\n",
    "fname = join(folder_general, \"ScanId_%04d_Diode_Trace_%s.png\" % (scan_id, USER))\n",
    "print(\"Saving: %s\" % fname)\n",
    "plt.savefig(fname, dpi=300)"
   ]
  }
 ],
 "metadata": {
  "kernelspec": {
   "display_name": "2403_tomo",
   "language": "python",
   "name": "2403_tomo"
  },
  "language_info": {
   "codemirror_mode": {
    "name": "ipython",
    "version": 3
   },
   "file_extension": ".py",
   "mimetype": "text/x-python",
   "name": "python",
   "nbconvert_exporter": "python",
   "pygments_lexer": "ipython3",
   "version": "3.11.0"
  },
  "toc-showcode": false
 },
 "nbformat": 4,
 "nbformat_minor": 5
}
